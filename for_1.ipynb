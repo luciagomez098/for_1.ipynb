{
  "nbformat": 4,
  "nbformat_minor": 0,
  "metadata": {
    "colab": {
      "provenance": [],
      "authorship_tag": "ABX9TyPE3m6Ayte5bZPVVZFO0yHK",
      "include_colab_link": true
    },
    "kernelspec": {
      "name": "python3",
      "display_name": "Python 3"
    },
    "language_info": {
      "name": "python"
    }
  },
  "cells": [
    {
      "cell_type": "markdown",
      "metadata": {
        "id": "view-in-github",
        "colab_type": "text"
      },
      "source": [
        "<a href=\"https://colab.research.google.com/github/luciagomez098/for_1.ipynb/blob/main/for_1.ipynb\" target=\"_parent\"><img src=\"https://colab.research.google.com/assets/colab-badge.svg\" alt=\"Open In Colab\"/></a>"
      ]
    },
    {
      "cell_type": "code",
      "execution_count": 6,
      "metadata": {
        "colab": {
          "base_uri": "https://localhost:8080/"
        },
        "id": "7VBtAGiFSFkc",
        "outputId": "4a8d48fe-b6af-481f-b305-3311152f3465"
      },
      "outputs": [
        {
          "output_type": "stream",
          "name": "stdout",
          "text": [
            "bienvenidos a google colaboratory\n",
            "la suma es: 5050\n",
            "[1, 2, 3, 4, 5, 6, 7, 8, 9, 10, 11, 12, 13, 14, 15, 16, 17, 18, 19, 20, 21, 22, 23, 24, 25, 26, 27, 28, 29, 30, 31, 32, 33, 34, 35, 36, 37, 38, 39, 40, 41, 42, 43, 44, 45, 46, 47, 48, 49, 50, 51, 52, 53, 54, 55, 56, 57, 58, 59, 60, 61, 62, 63, 64, 65, 66, 67, 68, 69, 70, 71, 72, 73, 74, 75, 76, 77, 78, 79, 80, 81, 82, 83, 84, 85, 86, 87, 88, 89, 90, 91, 92, 93, 94, 95, 96, 97, 98, 99, 100]\n"
          ]
        }
      ],
      "source": [
        "print(\"bienvenidos a google colaboratory\")\n",
        "\n",
        "# programa no. 1 instruccion for\n",
        "# mostrar la suma de los 10 promeros numeros naturales\n",
        "\n",
        "# imput\n",
        "\n",
        "#prosessing\n",
        "suma = 0\n",
        "serie = list(range(1,101))\n",
        "for i in range(101):\n",
        "  suma = suma + i\n",
        "\n",
        "# outpun\n",
        "print(\"la suma es: \" + str(suma))\n",
        "print(serie)\n"
      ]
    },
    {
      "cell_type": "markdown",
      "source": [
        "# estructura repetitiva for\n",
        "- es una estructira para....."
      ],
      "metadata": {
        "id": "R68lAkRxTGJU"
      }
    }
  ]
}